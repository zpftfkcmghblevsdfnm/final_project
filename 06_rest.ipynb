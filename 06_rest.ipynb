{
 "cells": [
  {
   "cell_type": "markdown",
   "metadata": {},
   "source": [
    "## часть 6.\n",
    "---\n",
    "В заключительной части я решил сгенерировать svg-изображение монстра, разбавив научно-технический язык моих пояснений по проекту. Да и будем честны, все любят милых пиксельных монстров"
   ]
  },
  {
   "cell_type": "markdown",
   "metadata": {},
   "source": [
    "Для начала импортируем все нуждые нам библиотеки"
   ]
  },
  {
   "cell_type": "code",
   "execution_count": 5,
   "metadata": {},
   "outputs": [],
   "source": [
    "import requests\n",
    "from IPython.display import display, SVG\n",
    "import matplotlib.pyplot as plt "
   ]
  },
  {
   "cell_type": "markdown",
   "metadata": {},
   "source": [
    "Вынесем ссылку на апи в отдельынй блок"
   ]
  },
  {
   "cell_type": "code",
   "execution_count": 2,
   "metadata": {},
   "outputs": [],
   "source": [
    "url_to_monster = \"https://app.pixelencounter.com/api/basic/monsters/random\""
   ]
  },
  {
   "cell_type": "markdown",
   "metadata": {},
   "source": [
    "Код самого алгоритма. Делаем get запрос к API. Тело ответа на запрос и содержит данные нашего монстрика, которые мы преобразовываем в строку и сохраняем в директории."
   ]
  },
  {
   "cell_type": "code",
   "execution_count": 11,
   "metadata": {},
   "outputs": [
    {
     "data": {
      "image/svg+xml": "<svg xmlns=\"http://www.w3.org/2000/svg\" xmlns:xlink=\"http://www.w3.org/1999/xlink\" viewBox=\"0 0 120 120\" id=\"PixelMon_431055\" class=\"pixel-monster\" data-monster-id=\"431055\" preserveAspectRatio=\"xMinYMin meet\" version=\"1.1\">\n                <rect xmlns=\"http://www.w3.org/2000/svg\" width=\"100%\" height=\"100%\" fill=\"#00000000\"/>\n<rect xmlns=\"http://www.w3.org/2000/svg\" x=\"20\" y=\"0\" width=\"10\" height=\"10\" fill=\"#4EE138\"/>\n<rect xmlns=\"http://www.w3.org/2000/svg\" x=\"90\" y=\"0\" width=\"10\" height=\"10\" fill=\"#4EE138\"/>\n<rect xmlns=\"http://www.w3.org/2000/svg\" x=\"30\" y=\"10\" width=\"10\" height=\"10\" fill=\"#4EE138\"/>\n<rect xmlns=\"http://www.w3.org/2000/svg\" x=\"50\" y=\"10\" width=\"10\" height=\"10\" fill=\"#4EE138\"/>\n<rect xmlns=\"http://www.w3.org/2000/svg\" x=\"60\" y=\"10\" width=\"10\" height=\"10\" fill=\"#4EE138\"/>\n<rect xmlns=\"http://www.w3.org/2000/svg\" x=\"80\" y=\"10\" width=\"10\" height=\"10\" fill=\"#4EE138\"/>\n<rect xmlns=\"http://www.w3.org/2000/svg\" x=\"10\" y=\"20\" width=\"10\" height=\"10\" fill=\"#4EE138\"/>\n<rect xmlns=\"http://www.w3.org/2000/svg\" x=\"20\" y=\"20\" width=\"10\" height=\"10\" fill=\"#4EE138\"/>\n<rect xmlns=\"http://www.w3.org/2000/svg\" x=\"30\" y=\"20\" width=\"10\" height=\"10\" fill=\"#4EE138\"/>\n<rect xmlns=\"http://www.w3.org/2000/svg\" x=\"40\" y=\"20\" width=\"10\" height=\"10\" fill=\"#4EE138\"/>\n<rect xmlns=\"http://www.w3.org/2000/svg\" x=\"70\" y=\"20\" width=\"10\" height=\"10\" fill=\"#4EE138\"/>\n<rect xmlns=\"http://www.w3.org/2000/svg\" x=\"80\" y=\"20\" width=\"10\" height=\"10\" fill=\"#4EE138\"/>\n<rect xmlns=\"http://www.w3.org/2000/svg\" x=\"90\" y=\"20\" width=\"10\" height=\"10\" fill=\"#4EE138\"/>\n<rect xmlns=\"http://www.w3.org/2000/svg\" x=\"100\" y=\"20\" width=\"10\" height=\"10\" fill=\"#4EE138\"/>\n<rect xmlns=\"http://www.w3.org/2000/svg\" x=\"20\" y=\"30\" width=\"10\" height=\"10\" fill=\"#4EE138\"/>\n<rect xmlns=\"http://www.w3.org/2000/svg\" x=\"30\" y=\"30\" width=\"10\" height=\"10\" fill=\"#4EE138\"/>\n<rect xmlns=\"http://www.w3.org/2000/svg\" x=\"50\" y=\"30\" width=\"10\" height=\"10\" fill=\"#4EE138\"/>\n<rect xmlns=\"http://www.w3.org/2000/svg\" x=\"60\" y=\"30\" width=\"10\" height=\"10\" fill=\"#4EE138\"/>\n<rect xmlns=\"http://www.w3.org/2000/svg\" x=\"80\" y=\"30\" width=\"10\" height=\"10\" fill=\"#4EE138\"/>\n<rect xmlns=\"http://www.w3.org/2000/svg\" x=\"90\" y=\"30\" width=\"10\" height=\"10\" fill=\"#4EE138\"/>\n<rect xmlns=\"http://www.w3.org/2000/svg\" x=\"30\" y=\"40\" width=\"10\" height=\"10\" fill=\"#4EE138\"/>\n<rect xmlns=\"http://www.w3.org/2000/svg\" x=\"40\" y=\"40\" width=\"10\" height=\"10\" fill=\"#4EE138\"/>\n<rect xmlns=\"http://www.w3.org/2000/svg\" x=\"70\" y=\"40\" width=\"10\" height=\"10\" fill=\"#4EE138\"/>\n<rect xmlns=\"http://www.w3.org/2000/svg\" x=\"80\" y=\"40\" width=\"10\" height=\"10\" fill=\"#4EE138\"/>\n<rect xmlns=\"http://www.w3.org/2000/svg\" x=\"30\" y=\"50\" width=\"10\" height=\"10\" fill=\"#4EE138\"/>\n<rect xmlns=\"http://www.w3.org/2000/svg\" x=\"50\" y=\"50\" width=\"10\" height=\"10\" fill=\"#4EE138\"/>\n<rect xmlns=\"http://www.w3.org/2000/svg\" x=\"60\" y=\"50\" width=\"10\" height=\"10\" fill=\"#4EE138\"/>\n<rect xmlns=\"http://www.w3.org/2000/svg\" x=\"80\" y=\"50\" width=\"10\" height=\"10\" fill=\"#4EE138\"/>\n<rect xmlns=\"http://www.w3.org/2000/svg\" x=\"20\" y=\"60\" width=\"10\" height=\"10\" fill=\"#4EE138\"/>\n<rect xmlns=\"http://www.w3.org/2000/svg\" x=\"30\" y=\"60\" width=\"10\" height=\"10\" fill=\"#4EE138\"/>\n<rect xmlns=\"http://www.w3.org/2000/svg\" x=\"40\" y=\"60\" width=\"10\" height=\"10\" fill=\"#4EE138\"/>\n<rect xmlns=\"http://www.w3.org/2000/svg\" x=\"70\" y=\"60\" width=\"10\" height=\"10\" fill=\"#4EE138\"/>\n<rect xmlns=\"http://www.w3.org/2000/svg\" x=\"80\" y=\"60\" width=\"10\" height=\"10\" fill=\"#4EE138\"/>\n<rect xmlns=\"http://www.w3.org/2000/svg\" x=\"90\" y=\"60\" width=\"10\" height=\"10\" fill=\"#4EE138\"/>\n<rect xmlns=\"http://www.w3.org/2000/svg\" x=\"20\" y=\"70\" width=\"10\" height=\"10\" fill=\"#4EE138\"/>\n<rect xmlns=\"http://www.w3.org/2000/svg\" x=\"30\" y=\"70\" width=\"10\" height=\"10\" fill=\"#4EE138\"/>\n<rect xmlns=\"http://www.w3.org/2000/svg\" x=\"40\" y=\"70\" width=\"10\" height=\"10\" fill=\"#4EE138\"/>\n<rect xmlns=\"http://www.w3.org/2000/svg\" x=\"50\" y=\"70\" width=\"10\" height=\"10\" fill=\"#4EE138\"/>\n<rect xmlns=\"http://www.w3.org/2000/svg\" x=\"60\" y=\"70\" width=\"10\" height=\"10\" fill=\"#4EE138\"/>\n<rect xmlns=\"http://www.w3.org/2000/svg\" x=\"70\" y=\"70\" width=\"10\" height=\"10\" fill=\"#4EE138\"/>\n<rect xmlns=\"http://www.w3.org/2000/svg\" x=\"80\" y=\"70\" width=\"10\" height=\"10\" fill=\"#4EE138\"/>\n<rect xmlns=\"http://www.w3.org/2000/svg\" x=\"90\" y=\"70\" width=\"10\" height=\"10\" fill=\"#4EE138\"/>\n<rect xmlns=\"http://www.w3.org/2000/svg\" x=\"0\" y=\"80\" width=\"10\" height=\"10\" fill=\"#4EE138\"/>\n<rect xmlns=\"http://www.w3.org/2000/svg\" x=\"10\" y=\"80\" width=\"10\" height=\"10\" fill=\"#4EE138\"/>\n<rect xmlns=\"http://www.w3.org/2000/svg\" x=\"20\" y=\"80\" width=\"10\" height=\"10\" fill=\"#4EE138\"/>\n<rect xmlns=\"http://www.w3.org/2000/svg\" x=\"30\" y=\"80\" width=\"10\" height=\"10\" fill=\"#4EE138\"/>\n<rect xmlns=\"http://www.w3.org/2000/svg\" x=\"40\" y=\"80\" width=\"10\" height=\"10\" fill=\"#4EE138\"/>\n<rect xmlns=\"http://www.w3.org/2000/svg\" x=\"50\" y=\"80\" width=\"10\" height=\"10\" fill=\"#4EE138\"/>\n<rect xmlns=\"http://www.w3.org/2000/svg\" x=\"60\" y=\"80\" width=\"10\" height=\"10\" fill=\"#4EE138\"/>\n<rect xmlns=\"http://www.w3.org/2000/svg\" x=\"70\" y=\"80\" width=\"10\" height=\"10\" fill=\"#4EE138\"/>\n<rect xmlns=\"http://www.w3.org/2000/svg\" x=\"80\" y=\"80\" width=\"10\" height=\"10\" fill=\"#4EE138\"/>\n<rect xmlns=\"http://www.w3.org/2000/svg\" x=\"90\" y=\"80\" width=\"10\" height=\"10\" fill=\"#4EE138\"/>\n<rect xmlns=\"http://www.w3.org/2000/svg\" x=\"100\" y=\"80\" width=\"10\" height=\"10\" fill=\"#4EE138\"/>\n<rect xmlns=\"http://www.w3.org/2000/svg\" x=\"110\" y=\"80\" width=\"10\" height=\"10\" fill=\"#4EE138\"/>\n<rect xmlns=\"http://www.w3.org/2000/svg\" x=\"20\" y=\"90\" width=\"10\" height=\"10\" fill=\"#4EE138\"/>\n<rect xmlns=\"http://www.w3.org/2000/svg\" x=\"30\" y=\"90\" width=\"10\" height=\"10\" fill=\"#4EE138\"/>\n<rect xmlns=\"http://www.w3.org/2000/svg\" x=\"40\" y=\"90\" width=\"10\" height=\"10\" fill=\"#4EE138\"/>\n<rect xmlns=\"http://www.w3.org/2000/svg\" x=\"50\" y=\"90\" width=\"10\" height=\"10\" fill=\"#4EE138\"/>\n<rect xmlns=\"http://www.w3.org/2000/svg\" x=\"60\" y=\"90\" width=\"10\" height=\"10\" fill=\"#4EE138\"/>\n<rect xmlns=\"http://www.w3.org/2000/svg\" x=\"70\" y=\"90\" width=\"10\" height=\"10\" fill=\"#4EE138\"/>\n<rect xmlns=\"http://www.w3.org/2000/svg\" x=\"80\" y=\"90\" width=\"10\" height=\"10\" fill=\"#4EE138\"/>\n<rect xmlns=\"http://www.w3.org/2000/svg\" x=\"90\" y=\"90\" width=\"10\" height=\"10\" fill=\"#4EE138\"/>\n<rect xmlns=\"http://www.w3.org/2000/svg\" x=\"10\" y=\"100\" width=\"10\" height=\"10\" fill=\"#4EE138\"/>\n<rect xmlns=\"http://www.w3.org/2000/svg\" x=\"100\" y=\"100\" width=\"10\" height=\"10\" fill=\"#4EE138\"/>\n<rect xmlns=\"http://www.w3.org/2000/svg\" x=\"0\" y=\"110\" width=\"10\" height=\"10\" fill=\"#4EE138\"/>\n<rect xmlns=\"http://www.w3.org/2000/svg\" x=\"110\" y=\"110\" width=\"10\" height=\"10\" fill=\"#4EE138\"/>\n</svg>",
      "text/plain": [
       "<IPython.core.display.SVG object>"
      ]
     },
     "metadata": {},
     "output_type": "display_data"
    }
   ],
   "source": [
    "monster = requests.get(url=url_to_monster).content\n",
    "display(SVG(monster))\n",
    "with open(\"monster.svg\", 'w') as file:\n",
    "    file.write(SVG(monster).data)\n",
    "    file.close()"
   ]
  }
 ],
 "metadata": {
  "interpreter": {
   "hash": "d2ce1258a37d2441b384ab8b622db9b0a68822805ba696192adb680d449b3f49"
  },
  "kernelspec": {
   "display_name": "Python 3.9.13 ('venv': venv)",
   "language": "python",
   "name": "python3"
  },
  "language_info": {
   "codemirror_mode": {
    "name": "ipython",
    "version": 3
   },
   "file_extension": ".py",
   "mimetype": "text/x-python",
   "name": "python",
   "nbconvert_exporter": "python",
   "pygments_lexer": "ipython3",
   "version": "3.9.13"
  },
  "orig_nbformat": 4
 },
 "nbformat": 4,
 "nbformat_minor": 2
}
